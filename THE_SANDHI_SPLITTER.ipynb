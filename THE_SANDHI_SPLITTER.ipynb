{
  "nbformat": 4,
  "nbformat_minor": 0,
  "metadata": {
    "colab": {
      "provenance": [],
      "gpuType": "T4"
    },
    "kernelspec": {
      "name": "python3",
      "display_name": "Python 3"
    },
    "language_info": {
      "name": "python"
    },
    "accelerator": "GPU"
  },
  "cells": [
    {
      "cell_type": "markdown",
      "source": [
        "🧩 STEP 1: Install & Import Libraries"
      ],
      "metadata": {
        "id": "1eNvD94t2DWH"
      }
    },
    {
      "cell_type": "code",
      "execution_count": 1,
      "metadata": {
        "id": "kr6JONfN1FLH"
      },
      "outputs": [],
      "source": [
        "!pip install -q tensorflow\n",
        "import tensorflow as tf\n",
        "import numpy as np\n",
        "import pandas as pd\n",
        "import re\n",
        "from google.colab import files\n"
      ]
    },
    {
      "cell_type": "markdown",
      "source": [
        "📁 STEP 2: Upload Dataset"
      ],
      "metadata": {
        "id": "CrDeCjSf2HyQ"
      }
    },
    {
      "cell_type": "code",
      "source": [
        "uploaded = files.upload()\n"
      ],
      "metadata": {
        "colab": {
          "base_uri": "https://localhost:8080/",
          "height": 73
        },
        "id": "bJ3K94Nh1voC",
        "outputId": "cda4a5e6-2e7a-4da3-dc3d-0ac9e50d9e53"
      },
      "execution_count": 2,
      "outputs": [
        {
          "output_type": "display_data",
          "data": {
            "text/plain": [
              "<IPython.core.display.HTML object>"
            ],
            "text/html": [
              "\n",
              "     <input type=\"file\" id=\"files-a5f5197f-8a6f-42f4-8abd-f5085b4cdce2\" name=\"files[]\" multiple disabled\n",
              "        style=\"border:none\" />\n",
              "     <output id=\"result-a5f5197f-8a6f-42f4-8abd-f5085b4cdce2\">\n",
              "      Upload widget is only available when the cell has been executed in the\n",
              "      current browser session. Please rerun this cell to enable.\n",
              "      </output>\n",
              "      <script>// Copyright 2017 Google LLC\n",
              "//\n",
              "// Licensed under the Apache License, Version 2.0 (the \"License\");\n",
              "// you may not use this file except in compliance with the License.\n",
              "// You may obtain a copy of the License at\n",
              "//\n",
              "//      http://www.apache.org/licenses/LICENSE-2.0\n",
              "//\n",
              "// Unless required by applicable law or agreed to in writing, software\n",
              "// distributed under the License is distributed on an \"AS IS\" BASIS,\n",
              "// WITHOUT WARRANTIES OR CONDITIONS OF ANY KIND, either express or implied.\n",
              "// See the License for the specific language governing permissions and\n",
              "// limitations under the License.\n",
              "\n",
              "/**\n",
              " * @fileoverview Helpers for google.colab Python module.\n",
              " */\n",
              "(function(scope) {\n",
              "function span(text, styleAttributes = {}) {\n",
              "  const element = document.createElement('span');\n",
              "  element.textContent = text;\n",
              "  for (const key of Object.keys(styleAttributes)) {\n",
              "    element.style[key] = styleAttributes[key];\n",
              "  }\n",
              "  return element;\n",
              "}\n",
              "\n",
              "// Max number of bytes which will be uploaded at a time.\n",
              "const MAX_PAYLOAD_SIZE = 100 * 1024;\n",
              "\n",
              "function _uploadFiles(inputId, outputId) {\n",
              "  const steps = uploadFilesStep(inputId, outputId);\n",
              "  const outputElement = document.getElementById(outputId);\n",
              "  // Cache steps on the outputElement to make it available for the next call\n",
              "  // to uploadFilesContinue from Python.\n",
              "  outputElement.steps = steps;\n",
              "\n",
              "  return _uploadFilesContinue(outputId);\n",
              "}\n",
              "\n",
              "// This is roughly an async generator (not supported in the browser yet),\n",
              "// where there are multiple asynchronous steps and the Python side is going\n",
              "// to poll for completion of each step.\n",
              "// This uses a Promise to block the python side on completion of each step,\n",
              "// then passes the result of the previous step as the input to the next step.\n",
              "function _uploadFilesContinue(outputId) {\n",
              "  const outputElement = document.getElementById(outputId);\n",
              "  const steps = outputElement.steps;\n",
              "\n",
              "  const next = steps.next(outputElement.lastPromiseValue);\n",
              "  return Promise.resolve(next.value.promise).then((value) => {\n",
              "    // Cache the last promise value to make it available to the next\n",
              "    // step of the generator.\n",
              "    outputElement.lastPromiseValue = value;\n",
              "    return next.value.response;\n",
              "  });\n",
              "}\n",
              "\n",
              "/**\n",
              " * Generator function which is called between each async step of the upload\n",
              " * process.\n",
              " * @param {string} inputId Element ID of the input file picker element.\n",
              " * @param {string} outputId Element ID of the output display.\n",
              " * @return {!Iterable<!Object>} Iterable of next steps.\n",
              " */\n",
              "function* uploadFilesStep(inputId, outputId) {\n",
              "  const inputElement = document.getElementById(inputId);\n",
              "  inputElement.disabled = false;\n",
              "\n",
              "  const outputElement = document.getElementById(outputId);\n",
              "  outputElement.innerHTML = '';\n",
              "\n",
              "  const pickedPromise = new Promise((resolve) => {\n",
              "    inputElement.addEventListener('change', (e) => {\n",
              "      resolve(e.target.files);\n",
              "    });\n",
              "  });\n",
              "\n",
              "  const cancel = document.createElement('button');\n",
              "  inputElement.parentElement.appendChild(cancel);\n",
              "  cancel.textContent = 'Cancel upload';\n",
              "  const cancelPromise = new Promise((resolve) => {\n",
              "    cancel.onclick = () => {\n",
              "      resolve(null);\n",
              "    };\n",
              "  });\n",
              "\n",
              "  // Wait for the user to pick the files.\n",
              "  const files = yield {\n",
              "    promise: Promise.race([pickedPromise, cancelPromise]),\n",
              "    response: {\n",
              "      action: 'starting',\n",
              "    }\n",
              "  };\n",
              "\n",
              "  cancel.remove();\n",
              "\n",
              "  // Disable the input element since further picks are not allowed.\n",
              "  inputElement.disabled = true;\n",
              "\n",
              "  if (!files) {\n",
              "    return {\n",
              "      response: {\n",
              "        action: 'complete',\n",
              "      }\n",
              "    };\n",
              "  }\n",
              "\n",
              "  for (const file of files) {\n",
              "    const li = document.createElement('li');\n",
              "    li.append(span(file.name, {fontWeight: 'bold'}));\n",
              "    li.append(span(\n",
              "        `(${file.type || 'n/a'}) - ${file.size} bytes, ` +\n",
              "        `last modified: ${\n",
              "            file.lastModifiedDate ? file.lastModifiedDate.toLocaleDateString() :\n",
              "                                    'n/a'} - `));\n",
              "    const percent = span('0% done');\n",
              "    li.appendChild(percent);\n",
              "\n",
              "    outputElement.appendChild(li);\n",
              "\n",
              "    const fileDataPromise = new Promise((resolve) => {\n",
              "      const reader = new FileReader();\n",
              "      reader.onload = (e) => {\n",
              "        resolve(e.target.result);\n",
              "      };\n",
              "      reader.readAsArrayBuffer(file);\n",
              "    });\n",
              "    // Wait for the data to be ready.\n",
              "    let fileData = yield {\n",
              "      promise: fileDataPromise,\n",
              "      response: {\n",
              "        action: 'continue',\n",
              "      }\n",
              "    };\n",
              "\n",
              "    // Use a chunked sending to avoid message size limits. See b/62115660.\n",
              "    let position = 0;\n",
              "    do {\n",
              "      const length = Math.min(fileData.byteLength - position, MAX_PAYLOAD_SIZE);\n",
              "      const chunk = new Uint8Array(fileData, position, length);\n",
              "      position += length;\n",
              "\n",
              "      const base64 = btoa(String.fromCharCode.apply(null, chunk));\n",
              "      yield {\n",
              "        response: {\n",
              "          action: 'append',\n",
              "          file: file.name,\n",
              "          data: base64,\n",
              "        },\n",
              "      };\n",
              "\n",
              "      let percentDone = fileData.byteLength === 0 ?\n",
              "          100 :\n",
              "          Math.round((position / fileData.byteLength) * 100);\n",
              "      percent.textContent = `${percentDone}% done`;\n",
              "\n",
              "    } while (position < fileData.byteLength);\n",
              "  }\n",
              "\n",
              "  // All done.\n",
              "  yield {\n",
              "    response: {\n",
              "      action: 'complete',\n",
              "    }\n",
              "  };\n",
              "}\n",
              "\n",
              "scope.google = scope.google || {};\n",
              "scope.google.colab = scope.google.colab || {};\n",
              "scope.google.colab._files = {\n",
              "  _uploadFiles,\n",
              "  _uploadFilesContinue,\n",
              "};\n",
              "})(self);\n",
              "</script> "
            ]
          },
          "metadata": {}
        },
        {
          "output_type": "stream",
          "name": "stdout",
          "text": [
            "Saving sandhi_splitting_dataset.txt to sandhi_splitting_dataset.txt\n"
          ]
        }
      ]
    },
    {
      "cell_type": "markdown",
      "source": [
        "🧹 STEP 3: Load and Process Dataset"
      ],
      "metadata": {
        "id": "JErVgu5z2MpN"
      }
    },
    {
      "cell_type": "code",
      "source": [
        "input_texts = []\n",
        "target_texts = []\n",
        "\n",
        "with open('sandhi_splitting_dataset.txt', 'r', encoding='utf-8') as f:\n",
        "    for line in f:\n",
        "        parts = line.strip().split('\\t')\n",
        "        if len(parts) == 3:\n",
        "            compound, part1, part2 = parts\n",
        "            input_texts.append(compound)\n",
        "            target_texts.append(part1 + '+' + part2)\n"
      ],
      "metadata": {
        "id": "05Ey3d8r14HU"
      },
      "execution_count": 3,
      "outputs": []
    },
    {
      "cell_type": "markdown",
      "source": [
        "🔡 STEP 4: Vocabulary and Encoding Setup"
      ],
      "metadata": {
        "id": "WGP5jvdi2SWz"
      }
    },
    {
      "cell_type": "code",
      "source": [
        "def get_vocab(texts):\n",
        "    vocab = set()\n",
        "    for txt in texts:\n",
        "        for ch in txt:\n",
        "            vocab.add(ch)\n",
        "    return sorted(vocab)\n",
        "\n",
        "special_tokens = ['<pad>', '<start>', '<end>']\n",
        "inp_vocab = special_tokens + get_vocab(input_texts)\n",
        "tgt_vocab = special_tokens + get_vocab(target_texts)\n",
        "\n",
        "inp_char2idx = {u: i for i, u in enumerate(inp_vocab)}\n",
        "inp_idx2char = {i: u for i, u in enumerate(inp_vocab)}\n",
        "tgt_char2idx = {u: i for i, u in enumerate(tgt_vocab)}\n",
        "tgt_idx2char = {i: u for i, u in enumerate(tgt_vocab)}\n"
      ],
      "metadata": {
        "id": "2QRUXGZq17g3"
      },
      "execution_count": 4,
      "outputs": []
    },
    {
      "cell_type": "markdown",
      "source": [
        "📏 STEP 5: Encode Texts & Pad Sequences"
      ],
      "metadata": {
        "id": "UIBrxagQ2WgL"
      }
    },
    {
      "cell_type": "code",
      "source": [
        "max_length = 40\n",
        "max_target_length = 50\n",
        "\n",
        "def encode_text(text, char2idx, add_tokens=False):\n",
        "    seq = [char2idx[c] for c in text if c in char2idx]\n",
        "    if add_tokens:\n",
        "        seq = [char2idx['<start>']] + seq + [char2idx['<end>']]\n",
        "    return seq\n",
        "\n",
        "input_tensor = tf.keras.preprocessing.sequence.pad_sequences(\n",
        "    [encode_text(txt, inp_char2idx) for txt in input_texts],\n",
        "    maxlen=max_length, padding='post'\n",
        ")\n",
        "\n",
        "target_tensor = tf.keras.preprocessing.sequence.pad_sequences(\n",
        "    [encode_text(txt, tgt_char2idx, add_tokens=True) for txt in target_texts],\n",
        "    maxlen=max_target_length, padding='post'\n",
        ")\n"
      ],
      "metadata": {
        "id": "pWsLxb021-6l"
      },
      "execution_count": 5,
      "outputs": []
    },
    {
      "cell_type": "markdown",
      "source": [
        "🧪 STEP 6: Prepare Dataset for Training"
      ],
      "metadata": {
        "id": "6WmItpT72avJ"
      }
    },
    {
      "cell_type": "code",
      "source": [
        "BATCH_SIZE = 64\n",
        "BUFFER_SIZE = len(input_tensor)\n",
        "\n",
        "dataset = tf.data.Dataset.from_tensor_slices((input_tensor, target_tensor))\n",
        "dataset = dataset.shuffle(BUFFER_SIZE).batch(BATCH_SIZE)\n"
      ],
      "metadata": {
        "id": "_wIA8O_X2eeM"
      },
      "execution_count": 6,
      "outputs": []
    },
    {
      "cell_type": "markdown",
      "source": [
        "🧠 STEP 7: Define Transformer Architecture"
      ],
      "metadata": {
        "id": "oRX2yMmt2hIg"
      }
    },
    {
      "cell_type": "code",
      "source": [
        "class PositionalEncoding(tf.keras.layers.Layer):\n",
        "    def __init__(self, position, d_model):\n",
        "        super().__init__()\n",
        "        self.pos_encoding = self._positional_encoding(position, d_model)\n",
        "\n",
        "    def _positional_encoding(self, position, d_model):\n",
        "        angle_rads = np.arange(position)[:, np.newaxis] / np.power(\n",
        "            10000, (2 * (np.arange(d_model)[np.newaxis, :] // 2)) / np.float32(d_model)\n",
        "        )\n",
        "        sines = np.sin(angle_rads[:, 0::2])\n",
        "        cosines = np.cos(angle_rads[:, 1::2])\n",
        "        pos_encoding = np.concatenate([sines, cosines], axis=-1)\n",
        "        return tf.cast(pos_encoding[np.newaxis, ...], dtype=tf.float32)\n",
        "\n",
        "    def call(self, x):\n",
        "        return x + self.pos_encoding[:, :tf.shape(x)[1], :]\n"
      ],
      "metadata": {
        "id": "beoYQ6262lKc"
      },
      "execution_count": 7,
      "outputs": []
    },
    {
      "cell_type": "code",
      "source": [
        "from tensorflow.keras.layers import Embedding, MultiHeadAttention, Dense, LayerNormalization, Input\n",
        "\n",
        "def build_transformer(vocab_size_inp, vocab_size_tar, d_model=128, num_heads=2, ff_dim=512):\n",
        "    inp = Input(shape=(None,))\n",
        "    tar = Input(shape=(None,))\n",
        "\n",
        "    inp_emb = Embedding(vocab_size_inp, d_model)(inp)\n",
        "    inp_emb = PositionalEncoding(1000, d_model)(inp_emb)\n",
        "\n",
        "    tar_emb = Embedding(vocab_size_tar, d_model)(tar)\n",
        "    tar_emb = PositionalEncoding(1000, d_model)(tar_emb)\n",
        "\n",
        "    attn_output = MultiHeadAttention(num_heads=num_heads, key_dim=d_model)(tar_emb, inp_emb, inp_emb)\n",
        "    attn_output = LayerNormalization()(attn_output + tar_emb)\n",
        "\n",
        "    ff_output = Dense(ff_dim, activation='relu')(attn_output)\n",
        "    ff_output = Dense(d_model)(ff_output)\n",
        "    ff_output = LayerNormalization()(ff_output + attn_output)\n",
        "\n",
        "    outputs = Dense(vocab_size_tar, activation='softmax')(ff_output)\n",
        "\n",
        "    model = tf.keras.Model(inputs=[inp, tar], outputs=outputs)\n",
        "    return model\n"
      ],
      "metadata": {
        "id": "lcHpAThj2oUH"
      },
      "execution_count": 8,
      "outputs": []
    },
    {
      "cell_type": "markdown",
      "source": [
        "🧑‍🏫 STEP 8: Compile and Train the Model"
      ],
      "metadata": {
        "id": "qtHn6p5i2rsT"
      }
    },
    {
      "cell_type": "code",
      "source": [
        "model = build_transformer(len(inp_char2idx), len(tgt_char2idx))\n",
        "model.compile(optimizer='adam', loss='sparse_categorical_crossentropy')\n",
        "\n",
        "def prepare_batch(inp, tar):\n",
        "    decoder_input = tar[:, :-1]\n",
        "    decoder_target = tar[:, 1:]\n",
        "    return (inp, decoder_input), decoder_target\n",
        "\n",
        "model.fit(dataset.map(prepare_batch), epochs=20)\n"
      ],
      "metadata": {
        "colab": {
          "base_uri": "https://localhost:8080/"
        },
        "id": "gvhuT5ZN2vLj",
        "outputId": "38bff322-77c0-4ecc-b88e-0c2b1e61350a"
      },
      "execution_count": 9,
      "outputs": [
        {
          "output_type": "stream",
          "name": "stdout",
          "text": [
            "Epoch 1/10\n",
            "\u001b[1m3720/3720\u001b[0m \u001b[32m━━━━━━━━━━━━━━━━━━━━\u001b[0m\u001b[37m\u001b[0m \u001b[1m31s\u001b[0m 6ms/step - loss: 0.2298\n",
            "Epoch 2/10\n",
            "\u001b[1m3720/3720\u001b[0m \u001b[32m━━━━━━━━━━━━━━━━━━━━\u001b[0m\u001b[37m\u001b[0m \u001b[1m34s\u001b[0m 5ms/step - loss: 0.0447\n",
            "Epoch 3/10\n",
            "\u001b[1m3720/3720\u001b[0m \u001b[32m━━━━━━━━━━━━━━━━━━━━\u001b[0m\u001b[37m\u001b[0m \u001b[1m20s\u001b[0m 5ms/step - loss: 0.0375\n",
            "Epoch 4/10\n",
            "\u001b[1m3720/3720\u001b[0m \u001b[32m━━━━━━━━━━━━━━━━━━━━\u001b[0m\u001b[37m\u001b[0m \u001b[1m21s\u001b[0m 5ms/step - loss: 0.0336\n",
            "Epoch 5/10\n",
            "\u001b[1m3720/3720\u001b[0m \u001b[32m━━━━━━━━━━━━━━━━━━━━\u001b[0m\u001b[37m\u001b[0m \u001b[1m21s\u001b[0m 5ms/step - loss: 0.0311\n",
            "Epoch 6/10\n",
            "\u001b[1m3720/3720\u001b[0m \u001b[32m━━━━━━━━━━━━━━━━━━━━\u001b[0m\u001b[37m\u001b[0m \u001b[1m20s\u001b[0m 5ms/step - loss: 0.0297\n",
            "Epoch 7/10\n",
            "\u001b[1m3720/3720\u001b[0m \u001b[32m━━━━━━━━━━━━━━━━━━━━\u001b[0m\u001b[37m\u001b[0m \u001b[1m21s\u001b[0m 5ms/step - loss: 0.0283\n",
            "Epoch 8/10\n",
            "\u001b[1m3720/3720\u001b[0m \u001b[32m━━━━━━━━━━━━━━━━━━━━\u001b[0m\u001b[37m\u001b[0m \u001b[1m21s\u001b[0m 5ms/step - loss: 0.0271\n",
            "Epoch 9/10\n",
            "\u001b[1m3720/3720\u001b[0m \u001b[32m━━━━━━━━━━━━━━━━━━━━\u001b[0m\u001b[37m\u001b[0m \u001b[1m20s\u001b[0m 5ms/step - loss: 0.0263\n",
            "Epoch 10/10\n",
            "\u001b[1m3720/3720\u001b[0m \u001b[32m━━━━━━━━━━━━━━━━━━━━\u001b[0m\u001b[37m\u001b[0m \u001b[1m21s\u001b[0m 5ms/step - loss: 0.0255\n"
          ]
        },
        {
          "output_type": "execute_result",
          "data": {
            "text/plain": [
              "<keras.src.callbacks.history.History at 0x78a0d5e56990>"
            ]
          },
          "metadata": {},
          "execution_count": 9
        }
      ]
    },
    {
      "cell_type": "markdown",
      "source": [
        "🔍 STEP 9: Define Inference Function"
      ],
      "metadata": {
        "id": "6PBXBMYB2zvd"
      }
    },
    {
      "cell_type": "code",
      "source": [
        "def predict_split(word):\n",
        "    word = word.strip().replace('\\t', '').replace('\\n', '')\n",
        "    encoded_input = encode_text(word, inp_char2idx)\n",
        "\n",
        "    encoder_input = tf.keras.preprocessing.sequence.pad_sequences(\n",
        "        [encoded_input], maxlen=max_length, padding='post'\n",
        "    )\n",
        "    encoder_input = tf.convert_to_tensor(encoder_input)\n",
        "\n",
        "    decoder_input = tf.expand_dims([tgt_char2idx['<start>']], 0)\n",
        "    result = []\n",
        "\n",
        "    for _ in range(max_target_length):\n",
        "        predictions = model([encoder_input, decoder_input])\n",
        "        predicted_id = tf.argmax(predictions[0, -1, :]).numpy()\n",
        "        predicted_char = tgt_idx2char[predicted_id]\n",
        "        if predicted_char == '<end>':\n",
        "            break\n",
        "        result.append(predicted_char)\n",
        "        decoder_input = tf.concat([decoder_input, [[predicted_id]]], axis=-1)\n",
        "\n",
        "    return ''.join(result)\n"
      ],
      "metadata": {
        "id": "06pV0h1v25tg"
      },
      "execution_count": 10,
      "outputs": []
    },
    {
      "cell_type": "markdown",
      "source": [
        "🧪 STEP 10: Evaluate Accuracy on Validation Data"
      ],
      "metadata": {
        "id": "b6yDwmpV29sQ"
      }
    },
    {
      "cell_type": "code",
      "source": [
        "from sklearn.model_selection import train_test_split\n",
        "\n",
        "train_input, val_input, train_target, val_target = train_test_split(\n",
        "    input_tensor, target_tensor, test_size=0.1, random_state=42\n",
        ")\n",
        "\n",
        "def evaluate_accuracy(n=500):\n",
        "    correct = 0\n",
        "    for i in range(n):\n",
        "        inp_chars = [inp_idx2char[idx] for idx in val_input[i] if idx > 2]\n",
        "        expected = ''.join([tgt_idx2char[idx] for idx in val_target[i] if idx > 2]).replace('<start>', '').replace('<end>', '')\n",
        "        predicted = predict_split(''.join(inp_chars))\n",
        "        if predicted == expected:\n",
        "            correct += 1\n",
        "    print(f\"✅ Accuracy on {n} samples: {correct / n:.2%}\")\n",
        "\n",
        "evaluate_accuracy()\n"
      ],
      "metadata": {
        "colab": {
          "base_uri": "https://localhost:8080/"
        },
        "id": "84-JjuSb3Aac",
        "outputId": "401144da-fd16-46dd-f1c2-5e0fd05da9e7"
      },
      "execution_count": 11,
      "outputs": [
        {
          "output_type": "stream",
          "name": "stdout",
          "text": [
            "✅ Accuracy on 500 samples: 63.40%\n"
          ]
        }
      ]
    },
    {
      "cell_type": "markdown",
      "source": [
        "💾 STEP 11: Save the Model"
      ],
      "metadata": {
        "id": "XjkS6JPZ3Dka"
      }
    },
    {
      "cell_type": "code",
      "source": [
        "model.save('/content/malayalam_sandhi_transformer.h5')\n"
      ],
      "metadata": {
        "colab": {
          "base_uri": "https://localhost:8080/"
        },
        "id": "TfkMm1tH3HA3",
        "outputId": "31b66e88-d303-4f79-8fe4-3aa51d49b7c3"
      },
      "execution_count": 12,
      "outputs": [
        {
          "output_type": "stream",
          "name": "stderr",
          "text": [
            "WARNING:absl:You are saving your model as an HDF5 file via `model.save()` or `keras.saving.save_model(model)`. This file format is considered legacy. We recommend using instead the native Keras format, e.g. `model.save('my_model.keras')` or `keras.saving.save_model(model, 'my_model.keras')`. \n"
          ]
        }
      ]
    },
    {
      "cell_type": "markdown",
      "source": [
        "🖥️ STEP 12: Gradio UI"
      ],
      "metadata": {
        "id": "BZbaZnZD3LEX"
      }
    },
    {
      "cell_type": "code",
      "source": [
        "!pip install gradio --quiet\n"
      ],
      "metadata": {
        "id": "pKs9KHv587xw"
      },
      "execution_count": 23,
      "outputs": []
    },
    {
      "cell_type": "code",
      "source": [
        "gr.Interface(\n",
        "    fn=predict_split,\n",
        "    inputs=gr.Textbox(label=\"🔤 Malayalam Compound Word\"),\n",
        "    outputs=gr.Textbox(label=\"🔍 Predicted Sandhi Split\"),\n",
        "    title=\"🌺 Malayalam Sandhi Splitter\",\n",
        "    description=\"Enter a compound Malayalam word to see its Sandhi split using a Transformer model.\",\n",
        ").launch(share=True)\n"
      ],
      "metadata": {
        "colab": {
          "base_uri": "https://localhost:8080/",
          "height": 614
        },
        "id": "uNPTQfW3-fYo",
        "outputId": "df0f637a-8991-4c0d-9563-21f70883fca9"
      },
      "execution_count": 30,
      "outputs": [
        {
          "output_type": "stream",
          "name": "stdout",
          "text": [
            "Colab notebook detected. To show errors in colab notebook, set debug=True in launch()\n",
            "* Running on public URL: https://f7d022aef13b07fe02.gradio.live\n",
            "\n",
            "This share link expires in 1 week. For free permanent hosting and GPU upgrades, run `gradio deploy` from the terminal in the working directory to deploy to Hugging Face Spaces (https://huggingface.co/spaces)\n"
          ]
        },
        {
          "output_type": "display_data",
          "data": {
            "text/plain": [
              "<IPython.core.display.HTML object>"
            ],
            "text/html": [
              "<div><iframe src=\"https://f7d022aef13b07fe02.gradio.live\" width=\"100%\" height=\"500\" allow=\"autoplay; camera; microphone; clipboard-read; clipboard-write;\" frameborder=\"0\" allowfullscreen></iframe></div>"
            ]
          },
          "metadata": {}
        },
        {
          "output_type": "execute_result",
          "data": {
            "text/plain": []
          },
          "metadata": {},
          "execution_count": 30
        }
      ]
    }
  ]
}